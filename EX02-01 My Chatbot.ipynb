{
  "nbformat": 4,
  "nbformat_minor": 0,
  "metadata": {
    "colab": {
      "provenance": [],
      "authorship_tag": "ABX9TyNE1QMKdUzAgEVkHWEX1E9F",
      "include_colab_link": true
    },
    "kernelspec": {
      "name": "python3",
      "display_name": "Python 3"
    },
    "language_info": {
      "name": "python"
    }
  },
  "cells": [
    {
      "cell_type": "markdown",
      "metadata": {
        "id": "view-in-github",
        "colab_type": "text"
      },
      "source": [
        "<a href=\"https://colab.research.google.com/github/880121andy/NSYSU/blob/main/EX02-01%20My%20Chatbot.ipynb\" target=\"_parent\"><img src=\"https://colab.research.google.com/assets/colab-badge.svg\" alt=\"Open In Colab\"/></a>"
      ]
    },
    {
      "cell_type": "code",
      "source": [
        "#匯入儲存在Colab中的userdata\n",
        "from google.colab import userdata\n",
        "#匯入gemini\n",
        "import google.generativeai as genai\n",
        "#從userdata中給予我的API key\n",
        "genai.configure(api_key=userdata.get('GOOGLE_API_KEY')) #看你在左邊鑰匙中設定的key名稱是什麼\n"
      ],
      "metadata": {
        "id": "e6OXcjlhPzo-"
      },
      "execution_count": 2,
      "outputs": []
    },
    {
      "cell_type": "code",
      "source": [
        "#設定模型參數\n",
        "generation_config = {\n",
        "    'temperature': 1,\n",
        "    'max_output_tokens': 1280,\n",
        "}\n",
        "#設定模型\n",
        "model = genai.GenerativeModel(\n",
        "    model_name='gemini-2.0-flash',\n",
        "    generation_config=generation_config\n",
        ")"
      ],
      "metadata": {
        "id": "sUJQ2LIzRncF"
      },
      "execution_count": 3,
      "outputs": []
    },
    {
      "cell_type": "code",
      "source": [
        "#使用連續對話\n",
        "chat = model.start_chat(history=[])\n",
        "\n",
        "while True:\n",
        "  message = input('You: ')\n",
        "  if message == 'see ya':\n",
        "    break\n",
        "\n",
        "  response = chat.send_message(message)\n",
        "  print('Chatbot: ')\n",
        "  display(Markdown(response.text))\n"
      ],
      "metadata": {
        "id": "OYgdHtS-R7rg"
      },
      "execution_count": null,
      "outputs": []
    }
  ]
}