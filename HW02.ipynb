{
  "nbformat": 4,
  "nbformat_minor": 0,
  "metadata": {
    "colab": {
      "provenance": [],
      "include_colab_link": true
    },
    "kernelspec": {
      "name": "python3",
      "display_name": "Python 3"
    },
    "language_info": {
      "name": "python"
    }
  },
  "cells": [
    {
      "cell_type": "markdown",
      "metadata": {
        "id": "view-in-github",
        "colab_type": "text"
      },
      "source": [
        "<a href=\"https://colab.research.google.com/github/880121andy/NSYSU/blob/main/HW02.ipynb\" target=\"_parent\"><img src=\"https://colab.research.google.com/assets/colab-badge.svg\" alt=\"Open In Colab\"/></a>"
      ]
    },
    {
      "cell_type": "markdown",
      "source": [
        "# HW02 Web Crawler"
      ],
      "metadata": {
        "id": "eo72fZ0YlURV"
      }
    },
    {
      "cell_type": "markdown",
      "source": [
        "## 題目"
      ],
      "metadata": {
        "id": "gUsBAopRJMJD"
      }
    },
    {
      "cell_type": "markdown",
      "source": [
        "PTT韓國旅遊版爬蟲練習: 韓國行前的鄉民攻略蒐集!"
      ],
      "metadata": {
        "id": "pDHhflLyJRgS"
      }
    },
    {
      "cell_type": "markdown",
      "source": [
        "## 摘要"
      ],
      "metadata": {
        "id": "hbqT3pl04Hl9"
      }
    },
    {
      "cell_type": "markdown",
      "source": [
        "本報告旨在透過網路爬蟲技術，爬取 PTT 韓國旅遊版 (Korea_Travel) 中近期的二十個文章，蒐集其文章連結、標題、熱度、日期，以供近期去韓國旅遊行程規畫、注意事項或熱門話題的參考。"
      ],
      "metadata": {
        "id": "vSGFYmEoZsrS"
      }
    },
    {
      "cell_type": "markdown",
      "source": [
        "## 引言"
      ],
      "metadata": {
        "id": "9nb1aHAM4XiE"
      }
    },
    {
      "cell_type": "markdown",
      "source": [
        "隨著出國旅遊日漸普及，許多旅客在規劃行程前會透過網路論壇蒐集相關討論與實用經驗。PTT 作為臺灣網友交流旅遊心得的重要平台，提供了真實的鄉民遊記、美食推薦、旅遊物品販售與注意事項等重要資訊。\n",
        "\n",
        "本次爬蟲的目標是蒐集 PTT 韓國旅遊版近期文章，作為近日民眾 (跟我自己😆) 前往韓國旅遊的資訊參考。"
      ],
      "metadata": {
        "id": "0ZmT034r5F9R"
      }
    },
    {
      "cell_type": "markdown",
      "source": [
        "## 方法"
      ],
      "metadata": {
        "id": "8YMFd39F4n4l"
      }
    },
    {
      "cell_type": "markdown",
      "source": [
        "- 目標網站描述\n",
        "  - 目標網站：PTT 韓國旅遊版 (Korea_Travel)\n",
        "  https://www.ptt.cc/bbs/Korea_Travel/index.html\n",
        "  - 頁面結構：包含文章列表，熱度，作者，日期等文章資訊。\n",
        "\n",
        "- 工具與技術\n",
        "  - 使用 Python 的 `requests` 庫發送 HTTP 請求。\n",
        "  - 使用 `BeautifulSoup` 解析 HTML。\n",
        "  - 使用 `pandas` 將爬取的資料儲存為csv檔。\n"
      ],
      "metadata": {
        "id": "zkix6XqZ429E"
      }
    },
    {
      "cell_type": "code",
      "source": [
        "# 安裝 & import\n",
        "import requests\n",
        "from bs4 import BeautifulSoup\n",
        "import pandas as pd"
      ],
      "metadata": {
        "id": "idcWtKfLhScf"
      },
      "execution_count": null,
      "outputs": []
    },
    {
      "cell_type": "code",
      "source": [
        "# 爬取資料\n",
        "url = 'https://www.ptt.cc/bbs/Korea_Travel/index1592.html'\n",
        "headers = {'User-Agent': 'Mozilla/5.0 (Windows NT 10.0; Win64; x64) AppleWebKit/537.36 (KHTML, like Gecko) Chrome/135.0.0.0 Safari/537.36'}\n",
        "response = requests.get(url, headers=headers)\n",
        "print(response.status_code)  # 檢查是否request成功"
      ],
      "metadata": {
        "id": "ziaWIQ0t8vKt",
        "colab": {
          "base_uri": "https://localhost:8080/"
        },
        "outputId": "24d43b42-8d9f-4a2e-ee34-5c1a51597210"
      },
      "execution_count": null,
      "outputs": [
        {
          "output_type": "stream",
          "name": "stdout",
          "text": [
            "200\n"
          ]
        }
      ]
    },
    {
      "cell_type": "code",
      "source": [
        "# 用BeautifulSoup解析html\n",
        "soup = BeautifulSoup(response.text, 'html.parser')\n",
        "articles = soup.find_all('div', class_='r-ent')\n",
        "print(articles[0])\n",
        "print(len(articles))"
      ],
      "metadata": {
        "colab": {
          "base_uri": "https://localhost:8080/"
        },
        "id": "mWeo9IEIcSN6",
        "outputId": "87d005c5-e551-41d5-98d3-9017df935a35"
      },
      "execution_count": null,
      "outputs": [
        {
          "output_type": "stream",
          "name": "stdout",
          "text": [
            "<div class=\"r-ent\">\n",
            "<div class=\"nrec\"></div>\n",
            "<div class=\"title\">\n",
            "<a href=\"/bbs/Korea_Travel/M.1744714726.A.AA2.html\">[徵求] 5/10-12 首爾旅伴或食伴</a>\n",
            "</div>\n",
            "<div class=\"meta\">\n",
            "<div class=\"author\">lice57332</div>\n",
            "<div class=\"article-menu\">\n",
            "<div class=\"trigger\">⋯</div>\n",
            "<div class=\"dropdown\">\n",
            "<div class=\"item\"><a href=\"/bbs/Korea_Travel/search?q=thread%3A%5B%E5%BE%B5%E6%B1%82%5D+5%2F10-12+%E9%A6%96%E7%88%BE%E6%97%85%E4%BC%B4%E6%88%96%E9%A3%9F%E4%BC%B4\">搜尋同標題文章</a></div>\n",
            "<div class=\"item\"><a href=\"/bbs/Korea_Travel/search?q=author%3Alice57332\">搜尋看板內 lice57332 的文章</a></div>\n",
            "</div>\n",
            "</div>\n",
            "<div class=\"date\"> 4/15</div>\n",
            "<div class=\"mark\"></div>\n",
            "</div>\n",
            "</div>\n",
            "20\n"
          ]
        }
      ]
    },
    {
      "cell_type": "code",
      "source": [
        "# 爬取文章: 1.連結 2.標題 3.熱度 4.日期\n",
        "data_list = []\n",
        "for a in articles:\n",
        "    data = {}\n",
        "    link = a.find('div', class_='title') # 爬取連結\n",
        "    if link and link.a:\n",
        "        link = 'https://www.ptt.cc' + link.a['href']\n",
        "    else:\n",
        "        link = '沒有連結'\n",
        "    data['連結'] = link\n",
        "\n",
        "    title = a.find('div', class_='title') # 爬取標題\n",
        "    if title and title.a:\n",
        "        title = title.a.text\n",
        "    else:\n",
        "        title = '沒有標題'\n",
        "    data['標題'] = title\n",
        "\n",
        "    popularity = a.find('div', class_='nrec') # 爬取人氣\n",
        "    if popularity and popularity.span:\n",
        "        popularity = popularity.span.text\n",
        "    else:\n",
        "        popularity = 'N/A'\n",
        "    data['熱度'] = popularity\n",
        "\n",
        "    date = a.find('div', class_='date') # 爬取日期\n",
        "    if date:\n",
        "        date = date.text\n",
        "    else:\n",
        "        date = 'N/A'\n",
        "    data['日期'] = date\n",
        "    data_list.append(data)\n",
        "    print(f'連結:{link}, 標題:{title}, 人氣:{popularity}, 日期:{date}')\n",
        "print(data_list)"
      ],
      "metadata": {
        "colab": {
          "base_uri": "https://localhost:8080/"
        },
        "id": "nue5PVZlcclO",
        "outputId": "c149bb49-21f9-4686-be36-0d31171ae294"
      },
      "execution_count": null,
      "outputs": [
        {
          "output_type": "stream",
          "name": "stdout",
          "text": [
            "連結:https://www.ptt.cc/bbs/Korea_Travel/M.1744714726.A.AA2.html, 標題:[徵求] 5/10-12 首爾旅伴或食伴, 人氣:N/A, 日期: 4/15\n",
            "連結:https://www.ptt.cc/bbs/Korea_Travel/M.1744723340.A.D98.html, 標題:（已售出）韓國E-sim上網卡三天, 人氣:N/A, 日期: 4/15\n",
            "連結:https://www.ptt.cc/bbs/Korea_Travel/M.1744791855.A.4A4.html, 標題:[徵求] 台南徵求三張氣候卡, 人氣:N/A, 日期: 4/16\n",
            "連結:https://www.ptt.cc/bbs/Korea_Travel/M.1744815936.A.6D3.html, 標題:[交通] 徵5/9仁川機場到弘大共乘, 人氣:2, 日期: 4/16\n",
            "連結:https://www.ptt.cc/bbs/Korea_Travel/M.1744818188.A.9C2.html, 標題:[問題] 萬國插座, 人氣:8, 日期: 4/16\n",
            "連結:https://www.ptt.cc/bbs/Korea_Travel/M.1744853854.A.A5C.html, 標題:[遊記] 廣安 人氣面海餐廳海鮮刀削麵-Nasari食堂, 人氣:N/A, 日期: 4/17\n",
            "連結:https://www.ptt.cc/bbs/Korea_Travel/M.1744853974.A.823.html, 標題:[交通] 鳳山售氣候卡2張, 人氣:N/A, 日期: 4/17\n",
            "連結:https://www.ptt.cc/bbs/Korea_Travel/M.1744875675.A.25C.html, 標題:[出售] cashbee 三張~~釜山PASS外觀, 人氣:N/A, 日期: 4/17\n",
            "連結:https://www.ptt.cc/bbs/Korea_Travel/M.1745005541.A.9B8.html, 標題:[出售] 韓國4天總量5GB用完降速吃到飽eSIM, 人氣:N/A, 日期: 4/19\n",
            "連結:https://www.ptt.cc/bbs/Korea_Travel/M.1745037045.A.E91.html, 標題:[徵求] 幫忙在西面的飯店拿東西, 人氣:1, 日期: 4/19\n",
            "連結:https://www.ptt.cc/bbs/Korea_Travel/M.1745040370.A.5EA.html, 標題:[交通] 轉讓5/31～6/21 AREX機場快線3張, 人氣:N/A, 日期: 4/19\n",
            "連結:https://www.ptt.cc/bbs/Korea_Travel/M.1745056308.A.2C1.html, 標題:[問題] 無線充電式離子夾, 人氣:2, 日期: 4/19\n",
            "連結:https://www.ptt.cc/bbs/Korea_Travel/M.1745069779.A.771.html, 標題:[問題] 濟州機場換錢&充電樁付費, 人氣:N/A, 日期: 4/19\n",
            "連結:https://www.ptt.cc/bbs/Korea_Travel/M.1745071284.A.C94.html, 標題:[徵求] 8/14至8/18 首爾 旅伴 飯友, 人氣:N/A, 日期: 4/19\n",
            "連結:https://www.ptt.cc/bbs/Korea_Travel/M.1745114909.A.E71.html, 標題:[交通] 售 韓國同行氣候卡15張（已售完）, 人氣:N/A, 日期: 4/20\n",
            "連結:https://www.ptt.cc/bbs/Korea_Travel/M.1745125391.A.CB1.html, 標題:[交通] 售 氣候同行卡 (已售出), 人氣:N/A, 日期: 4/20\n",
            "連結:https://www.ptt.cc/bbs/Korea_Travel/M.1745158313.A.F5C.html, 標題:[徵求] 6/12 虎航IT602 仁川到東大門 包車共乘, 人氣:N/A, 日期: 4/20\n",
            "連結:https://www.ptt.cc/bbs/Korea_Travel/M.1745219512.A.211.html, 標題:[交通] 售 氣候同行卡, 人氣:N/A, 日期: 4/21\n",
            "連結:https://www.ptt.cc/bbs/Korea_Travel/M.1745285496.A.20F.html, 標題:[住宿] 釜山 西面Denbasta Central Hotel四人房, 人氣:N/A, 日期: 4/22\n",
            "連結:https://www.ptt.cc/bbs/Korea_Travel/M.1745303992.A.29C.html, 標題:[交通] 售全新氣候同行卡, 人氣:N/A, 日期: 4/22\n",
            "[{'連結': 'https://www.ptt.cc/bbs/Korea_Travel/M.1744714726.A.AA2.html', '標題': '[徵求] 5/10-12 首爾旅伴或食伴', '熱度': 'N/A', '日期': ' 4/15'}, {'連結': 'https://www.ptt.cc/bbs/Korea_Travel/M.1744723340.A.D98.html', '標題': '（已售出）韓國E-sim上網卡三天', '熱度': 'N/A', '日期': ' 4/15'}, {'連結': 'https://www.ptt.cc/bbs/Korea_Travel/M.1744791855.A.4A4.html', '標題': '[徵求] 台南徵求三張氣候卡', '熱度': 'N/A', '日期': ' 4/16'}, {'連結': 'https://www.ptt.cc/bbs/Korea_Travel/M.1744815936.A.6D3.html', '標題': '[交通] 徵5/9仁川機場到弘大共乘', '熱度': '2', '日期': ' 4/16'}, {'連結': 'https://www.ptt.cc/bbs/Korea_Travel/M.1744818188.A.9C2.html', '標題': '[問題] 萬國插座', '熱度': '8', '日期': ' 4/16'}, {'連結': 'https://www.ptt.cc/bbs/Korea_Travel/M.1744853854.A.A5C.html', '標題': '[遊記] 廣安 人氣面海餐廳海鮮刀削麵-Nasari食堂', '熱度': 'N/A', '日期': ' 4/17'}, {'連結': 'https://www.ptt.cc/bbs/Korea_Travel/M.1744853974.A.823.html', '標題': '[交通] 鳳山售氣候卡2張', '熱度': 'N/A', '日期': ' 4/17'}, {'連結': 'https://www.ptt.cc/bbs/Korea_Travel/M.1744875675.A.25C.html', '標題': '[出售] cashbee 三張~~釜山PASS外觀', '熱度': 'N/A', '日期': ' 4/17'}, {'連結': 'https://www.ptt.cc/bbs/Korea_Travel/M.1745005541.A.9B8.html', '標題': '[出售] 韓國4天總量5GB用完降速吃到飽eSIM', '熱度': 'N/A', '日期': ' 4/19'}, {'連結': 'https://www.ptt.cc/bbs/Korea_Travel/M.1745037045.A.E91.html', '標題': '[徵求] 幫忙在西面的飯店拿東西', '熱度': '1', '日期': ' 4/19'}, {'連結': 'https://www.ptt.cc/bbs/Korea_Travel/M.1745040370.A.5EA.html', '標題': '[交通] 轉讓5/31～6/21 AREX機場快線3張', '熱度': 'N/A', '日期': ' 4/19'}, {'連結': 'https://www.ptt.cc/bbs/Korea_Travel/M.1745056308.A.2C1.html', '標題': '[問題] 無線充電式離子夾', '熱度': '2', '日期': ' 4/19'}, {'連結': 'https://www.ptt.cc/bbs/Korea_Travel/M.1745069779.A.771.html', '標題': '[問題] 濟州機場換錢&充電樁付費', '熱度': 'N/A', '日期': ' 4/19'}, {'連結': 'https://www.ptt.cc/bbs/Korea_Travel/M.1745071284.A.C94.html', '標題': '[徵求] 8/14至8/18 首爾 旅伴 飯友', '熱度': 'N/A', '日期': ' 4/19'}, {'連結': 'https://www.ptt.cc/bbs/Korea_Travel/M.1745114909.A.E71.html', '標題': '[交通] 售 韓國同行氣候卡15張（已售完）', '熱度': 'N/A', '日期': ' 4/20'}, {'連結': 'https://www.ptt.cc/bbs/Korea_Travel/M.1745125391.A.CB1.html', '標題': '[交通] 售 氣候同行卡 (已售出)', '熱度': 'N/A', '日期': ' 4/20'}, {'連結': 'https://www.ptt.cc/bbs/Korea_Travel/M.1745158313.A.F5C.html', '標題': '[徵求] 6/12 虎航IT602 仁川到東大門 包車共乘', '熱度': 'N/A', '日期': ' 4/20'}, {'連結': 'https://www.ptt.cc/bbs/Korea_Travel/M.1745219512.A.211.html', '標題': '[交通] 售 氣候同行卡', '熱度': 'N/A', '日期': ' 4/21'}, {'連結': 'https://www.ptt.cc/bbs/Korea_Travel/M.1745285496.A.20F.html', '標題': '[住宿] 釜山 西面Denbasta Central Hotel四人房', '熱度': 'N/A', '日期': ' 4/22'}, {'連結': 'https://www.ptt.cc/bbs/Korea_Travel/M.1745303992.A.29C.html', '標題': '[交通] 售全新氣候同行卡', '熱度': 'N/A', '日期': ' 4/22'}]\n"
          ]
        }
      ]
    },
    {
      "cell_type": "markdown",
      "source": [
        "## 結果\n"
      ],
      "metadata": {
        "id": "mHEo_iad7QMa"
      }
    },
    {
      "cell_type": "markdown",
      "source": [
        "- 數據存儲方式\n",
        "  - 將數據存儲為 CSV 格式，方便後續分析。"
      ],
      "metadata": {
        "id": "Fx3h33cU8n8t"
      }
    },
    {
      "cell_type": "code",
      "source": [
        "# 儲存成dataframe\n",
        "df = pd.DataFrame(data_list)\n",
        "df.to_csv('ptt_data.csv', index=False)"
      ],
      "metadata": {
        "id": "jsLbLuSa8mnY"
      },
      "execution_count": null,
      "outputs": []
    },
    {
      "cell_type": "markdown",
      "source": [
        "## 問題與挑戰"
      ],
      "metadata": {
        "id": "6yHFop_b73gY"
      }
    },
    {
      "cell_type": "markdown",
      "source": [
        "- 技術挑戰  \n",
        "    雖然 PTT 韓國旅遊版的資料請求方式相對穩定且簡單（可以在 Network 中直接找到 `index.html`），但對於第一次嘗試爬取自己感興趣資料的爬蟲初學者來說，在一個個尋找標題、日期、連結等子標籤的過程中，仍然是一場挑戰，也相當考驗眼力。\n",
        "\n",
        "- 資料限制  \n",
        "    韓國旅遊版相較其他熱門看板(nba, 八卦, 閒聊等)的討論熱度較為低靡，因此較無法單從爬取的20筆文章中，顯著看到熱門話題及冷門話題的差異。"
      ],
      "metadata": {
        "id": "D6roihku8PBu"
      }
    },
    {
      "cell_type": "markdown",
      "source": [
        "## 結論"
      ],
      "metadata": {
        "id": "VeQHgVuqqD3J"
      }
    },
    {
      "cell_type": "markdown",
      "source": [
        "\n",
        "- 成功爬取了PTT韓國旅遊版近期的20筆文章，以及其相關資料，提供了韓國旅遊的參考。\n",
        "- 未來可將資料爬取擴展至其他知名論壇，獲得更全面的資訊蒐集。"
      ],
      "metadata": {
        "id": "Baea2g7J9DAL"
      }
    },
    {
      "cell_type": "markdown",
      "source": [
        "## 參考文獻"
      ],
      "metadata": {
        "id": "j5hI_9QW9dTt"
      }
    },
    {
      "cell_type": "markdown",
      "source": [
        "* [PPT韓國旅遊版](https://www.ptt.cc/bbs/Korea_Travel/index.html)\n",
        "* [PPT爬蟲教學YouTube影片](https://www.youtube.com/watch?v=1PHp1prsxIM)"
      ],
      "metadata": {
        "id": "eLFvp2Fk9fSa"
      }
    }
  ]
}