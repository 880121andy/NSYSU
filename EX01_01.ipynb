{
  "nbformat": 4,
  "nbformat_minor": 0,
  "metadata": {
    "colab": {
      "provenance": [],
      "authorship_tag": "ABX9TyMbysNDgfiq4oIiOJ0R034W",
      "include_colab_link": true
    },
    "kernelspec": {
      "name": "python3",
      "display_name": "Python 3"
    },
    "language_info": {
      "name": "python"
    }
  },
  "cells": [
    {
      "cell_type": "markdown",
      "metadata": {
        "id": "view-in-github",
        "colab_type": "text"
      },
      "source": [
        "<a href=\"https://colab.research.google.com/github/880121andy/NSYSU/blob/main/EX01_01.ipynb\" target=\"_parent\"><img src=\"https://colab.research.google.com/assets/colab-badge.svg\" alt=\"Open In Colab\"/></a>"
      ]
    },
    {
      "cell_type": "code",
      "execution_count": 5,
      "metadata": {
        "colab": {
          "base_uri": "https://localhost:8080/"
        },
        "id": "BZ6D57cQ2mNP",
        "outputId": "84fafff4-ee90-48a0-8a67-c3473dae3428"
      },
      "outputs": [
        {
          "output_type": "stream",
          "name": "stdout",
          "text": [
            "請輸入整數一: 2\n",
            "請輸入整數二: 3\n",
            "兩數總和為: 5\n"
          ]
        }
      ],
      "source": [
        "# 取得整數一\n",
        "num1 = int(input('請輸入整數一: '))\n",
        "\n",
        "# 取得整數二\n",
        "num2 = int(input('請輸入整數二: '))\n",
        "\n",
        "# 整數一加整數二\n",
        "print('兩數總和為:', num1+num2)"
      ]
    },
    {
      "cell_type": "code",
      "source": [],
      "metadata": {
        "id": "W8xnwvyxEaHz"
      },
      "execution_count": null,
      "outputs": []
    }
  ]
}