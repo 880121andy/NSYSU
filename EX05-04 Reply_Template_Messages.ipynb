{
  "nbformat": 4,
  "nbformat_minor": 0,
  "metadata": {
    "colab": {
      "provenance": [],
      "authorship_tag": "ABX9TyOXxb7VE4O45AZkduqJYJo4",
      "include_colab_link": true
    },
    "kernelspec": {
      "name": "python3",
      "display_name": "Python 3"
    },
    "language_info": {
      "name": "python"
    }
  },
  "cells": [
    {
      "cell_type": "markdown",
      "metadata": {
        "id": "view-in-github",
        "colab_type": "text"
      },
      "source": [
        "<a href=\"https://colab.research.google.com/github/880121andy/NSYSU/blob/main/EX05-04%20Reply_Template_Messages.ipynb\" target=\"_parent\"><img src=\"https://colab.research.google.com/assets/colab-badge.svg\" alt=\"Open In Colab\"/></a>"
      ]
    },
    {
      "cell_type": "code",
      "execution_count": null,
      "metadata": {
        "id": "kXQ_JzKAPsXB"
      },
      "outputs": [],
      "source": [
        "https://www.instagram.com/andrew_c_0402/"
      ]
    },
    {
      "cell_type": "code",
      "source": [
        "!pip install -q pyngrok flask_ngrok # for colab\n",
        "!pip install -q flask line-bot-sdk"
      ],
      "metadata": {
        "colab": {
          "base_uri": "https://localhost:8080/"
        },
        "id": "FB4Vx2-wUi_c",
        "outputId": "2c6c312a-3336-42b6-ada0-995a718a2935"
      },
      "execution_count": 1,
      "outputs": [
        {
          "output_type": "stream",
          "name": "stdout",
          "text": [
            "\u001b[2K   \u001b[90m━━━━━━━━━━━━━━━━━━━━━━━━━━━━━━━━━━━━━━━━\u001b[0m \u001b[32m776.1/776.1 kB\u001b[0m \u001b[31m10.5 MB/s\u001b[0m eta \u001b[36m0:00:00\u001b[0m\n",
            "\u001b[2K   \u001b[90m━━━━━━━━━━━━━━━━━━━━━━━━━━━━━━━━━━━━━━━━\u001b[0m \u001b[32m165.6/165.6 kB\u001b[0m \u001b[31m8.6 MB/s\u001b[0m eta \u001b[36m0:00:00\u001b[0m\n",
            "\u001b[?25h"
          ]
        }
      ]
    },
    {
      "cell_type": "code",
      "source": [
        "# for colab\n",
        "from google.colab import userdata\n",
        "from pyngrok import ngrok\n",
        "from flask_ngrok import run_with_ngrok\n",
        "def ngrok_start():\n",
        "    ngrok.set_auth_token(userdata.get('Ngrok'))\n",
        "    ngrok.connect(5000)\n",
        "    run_with_ngrok(app)\n",
        "\n",
        "from flask import Flask, request, abort\n",
        "\n",
        "from linebot.v3 import WebhookHandler\n",
        "from linebot.v3.exceptions import InvalidSignatureError\n",
        "from linebot.v3.webhooks import MessageEvent, TextMessageContent\n",
        "from linebot.v3.messaging import (\n",
        "    Configuration, ApiClient, MessagingApi,\n",
        "    ReplyMessageRequest,\n",
        "    TextMessage,\n",
        "    TemplateMessage,\n",
        "    ConfirmTemplate, MessageAction,\n",
        "    ButtonsTemplate, URIAction, LocationAction, CameraAction, CameraRollAction,\n",
        "    CarouselTemplate, CarouselColumn, URIAction, PostbackAction\n",
        "\n",
        ")\n",
        "\n",
        "app = Flask(__name__)\n",
        "\n",
        "configuration = Configuration(access_token=userdata.get('Line_Access_Token'))\n",
        "handler = WebhookHandler(userdata.get('Line_Channel_Secret'))\n",
        "\n",
        "@app.route(\"/callback\", methods=['POST'])\n",
        "def callback():\n",
        "    signature = request.headers['X-Line-Signature']\n",
        "    body = request.get_data(as_text=True)\n",
        "    try:\n",
        "        handler.handle(body, signature)\n",
        "    except InvalidSignatureError:\n",
        "        abort(400)\n",
        "    return 'OK'\n",
        "\n",
        "\n",
        "@handler.add(MessageEvent, message=TextMessageContent)\n",
        "def handle_message(event):\n",
        "    with ApiClient(configuration) as api_client:\n",
        "        line_bot_api = MessagingApi(api_client)\n",
        "\n",
        "        action = event.message.text\n",
        "        if action == 'confirm':\n",
        "          template=ConfirmTemplate(\n",
        "            text=\"你確定要進行這個動作嗎？\",\n",
        "            actions=[\n",
        "                MessageAction(label=\"是\", text=\"是\"),\n",
        "                MessageAction(label=\"否\", text=\"否\")\n",
        "            ]\n",
        "           )\n",
        "          reply = TemplateMessage(alt_text=\"這是確認視窗\", template=template)\n",
        "\n",
        "\n",
        "        elif action == 'carousel':\n",
        "          carousel_template = CarouselTemplate(\n",
        "              columns=[\n",
        "                CarouselColumn(\n",
        "                  thumbnail_image_url='https://i1.sndcdn.com/artworks-GRbvUNHnssZgvZ51-DIwieA-t500x500.jpg',\n",
        "                  title='Jynxzi',\n",
        "                  text='G.O.A.T(not a glazer)',\n",
        "                  actions=[\n",
        "                      URIAction(label='YouTube', uri='https://www.youtube.com/@Jynxzi'),\n",
        "                      PostbackAction(label='Twitch', data='https://www.twitch.tv/jynxzi')\n",
        "                  ]\n",
        "                ),\n",
        "                CarouselColumn(\n",
        "                  thumbnail_image_url='https://encrypted-tbn0.gstatic.com/images?q=tbn:ANd9GcTamq9LhjbMTbTAiNwgcrSxbUhb_GBWBpek_w&s',\n",
        "                  title='JasonTheWeen',\n",
        "                  text='0_____________0',\n",
        "                  actions=[\n",
        "                      URIAction(label='YouTube', uri='https://www.google.com/url?sa=i&url=https%3A%2F%2Fwww.youtube.com%2Fc%2Fjasontheweenie&psig=AOvVaw0xuHpJxT3rzu_6iHtvb8A7&ust=1747208705652000&source=images&cd=vfe&opi=89978449&ved=0CBcQjhxqFwoTCIjiuNb5n40DFQAAAAAdAAAAABAO'),\n",
        "                      PostbackAction(label='Twitch', data='https://www.twitch.tv/jasontheween?lang=zh-tw')\n",
        "                  ]\n",
        "                )\n",
        "              ]\n",
        "          )\n",
        "          reply = TemplateMessage(\n",
        "              alt_text = '這是輪播視窗',\n",
        "              template = carousel_template\n",
        "          )\n",
        "        else:\n",
        "          reply = TextMessage(text='nope')\n",
        "\n",
        "        line_bot_api.reply_message(\n",
        "            ReplyMessageRequest(\n",
        "                reply_token=event.reply_token,\n",
        "                messages=[\n",
        "                    reply\n",
        "                ]\n",
        "            )\n",
        "        )\n",
        "\n",
        "\n",
        "\n",
        "ngrok_start() # for colab\n",
        "if __name__ == \"__main__\":\n",
        "    app.run()"
      ],
      "metadata": {
        "colab": {
          "base_uri": "https://localhost:8080/"
        },
        "id": "VV8Bk8bUWaw-",
        "outputId": "56ffee17-39b2-4008-8f8f-02ba0e8ba047"
      },
      "execution_count": 7,
      "outputs": [
        {
          "output_type": "stream",
          "name": "stdout",
          "text": [
            " * Serving Flask app '__main__'\n",
            " * Debug mode: off\n"
          ]
        },
        {
          "output_type": "stream",
          "name": "stderr",
          "text": [
            "INFO:werkzeug:\u001b[31m\u001b[1mWARNING: This is a development server. Do not use it in a production deployment. Use a production WSGI server instead.\u001b[0m\n",
            " * Running on http://127.0.0.1:5000\n",
            "INFO:werkzeug:\u001b[33mPress CTRL+C to quit\u001b[0m\n"
          ]
        },
        {
          "output_type": "stream",
          "name": "stdout",
          "text": [
            " * Running on http://4350-35-237-98-143.ngrok-free.app\n",
            " * Traffic stats available on http://127.0.0.1:4040\n"
          ]
        },
        {
          "output_type": "stream",
          "name": "stderr",
          "text": [
            "INFO:werkzeug:127.0.0.1 - - [13/May/2025 07:48:21] \"\u001b[33mGET / HTTP/1.1\u001b[0m\" 404 -\n",
            "INFO:werkzeug:127.0.0.1 - - [13/May/2025 07:48:21] \"\u001b[33mGET /favicon.ico HTTP/1.1\u001b[0m\" 404 -\n",
            "INFO:werkzeug:127.0.0.1 - - [13/May/2025 07:48:36] \"POST /callback HTTP/1.1\" 200 -\n",
            "INFO:werkzeug:127.0.0.1 - - [13/May/2025 07:48:51] \"POST /callback HTTP/1.1\" 200 -\n"
          ]
        }
      ]
    }
  ]
}