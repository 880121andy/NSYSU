{
  "nbformat": 4,
  "nbformat_minor": 0,
  "metadata": {
    "colab": {
      "provenance": [],
      "authorship_tag": "ABX9TyNZimIkgbIqol+4yTkq0Bv3",
      "include_colab_link": true
    },
    "kernelspec": {
      "name": "python3",
      "display_name": "Python 3"
    },
    "language_info": {
      "name": "python"
    }
  },
  "cells": [
    {
      "cell_type": "markdown",
      "metadata": {
        "id": "view-in-github",
        "colab_type": "text"
      },
      "source": [
        "<a href=\"https://colab.research.google.com/github/880121andy/NSYSU/blob/main/EX01-04%20%E7%B5%82%E6%A5%B5%E5%AF%86%E7%A2%BC.ipynb\" target=\"_parent\"><img src=\"https://colab.research.google.com/assets/colab-badge.svg\" alt=\"Open In Colab\"/></a>"
      ]
    },
    {
      "cell_type": "code",
      "execution_count": 17,
      "metadata": {
        "colab": {
          "base_uri": "https://localhost:8080/"
        },
        "id": "ITPp-fuQ3ejj",
        "outputId": "b85d15c4-a309-4834-f58f-5f15c10b2fa5"
      },
      "outputs": [
        {
          "output_type": "stream",
          "name": "stdout",
          "text": [
            "0 - 100\n",
            "pick a number:77\n",
            "77 - 100\n",
            "pick a number:100\n",
            "out of range\n",
            "77 - 100\n",
            "pick a number:0\n",
            "out of range\n",
            "77 - 100\n",
            "pick a number:1\n",
            "out of range\n",
            "77 - 100\n",
            "pick a number:89\n",
            "77 - 89\n",
            "pick a number:82\n",
            "82 - 89\n",
            "pick a number:85\n",
            "82 - 85\n",
            "pick a number:83\n",
            "83 - 85\n",
            "pick a number:84\n",
            "Game Over\n"
          ]
        }
      ],
      "source": [
        "#選取隨機終極密碼\n",
        "import random\n",
        "bomb = random.randint(1,99)\n",
        "\n",
        "#設定左右範圍\n",
        "lf = 0\n",
        "rt = 100\n",
        "\n",
        "while True:\n",
        "  print(lf, '-', rt)\n",
        "  gu = int(input('pick a number:'))\n",
        "\n",
        "  #超過範圍\n",
        "  if gu <= lf or gu >= rt:\n",
        "    print('out of range')\n",
        "  #比炸彈小\n",
        "  elif gu < bomb:\n",
        "    lf = gu\n",
        "\n",
        "  #比炸彈大\n",
        "  elif gu > bomb:\n",
        "    rt = gu\n",
        "\n",
        "  #正中炸彈\n",
        "  else:\n",
        "    print('Game Over')\n",
        "    break\n"
      ]
    }
  ]
}