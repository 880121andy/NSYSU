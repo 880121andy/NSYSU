{
  "nbformat": 4,
  "nbformat_minor": 0,
  "metadata": {
    "colab": {
      "provenance": [],
      "authorship_tag": "ABX9TyOxq3Wkhyacf2y0E58IN3Pd",
      "include_colab_link": true
    },
    "kernelspec": {
      "name": "python3",
      "display_name": "Python 3"
    },
    "language_info": {
      "name": "python"
    }
  },
  "cells": [
    {
      "cell_type": "markdown",
      "metadata": {
        "id": "view-in-github",
        "colab_type": "text"
      },
      "source": [
        "<a href=\"https://colab.research.google.com/github/880121andy/NSYSU/blob/main/EX01-02%20BMI%E8%A8%88%E7%AE%97.ipynb\" target=\"_parent\"><img src=\"https://colab.research.google.com/assets/colab-badge.svg\" alt=\"Open In Colab\"/></a>"
      ]
    },
    {
      "cell_type": "code",
      "execution_count": 1,
      "metadata": {
        "colab": {
          "base_uri": "https://localhost:8080/"
        },
        "id": "TrFp7KhNK8Xg",
        "outputId": "a5d665bb-a5d0-4cf8-ff0e-d041bdd79697"
      },
      "outputs": [
        {
          "output_type": "stream",
          "name": "stdout",
          "text": [
            "height(cm):166\n",
            "weight(kg)52\n",
            "您的bmi是: 18.9\n"
          ]
        }
      ],
      "source": [
        "ht = float(input('height(cm):'))\n",
        "wt = float(input('weight(kg)'))\n",
        "bmi = wt / (ht/100)**2\n",
        "print('您的bmi是:', round(bmi, 1))"
      ]
    }
  ]
}