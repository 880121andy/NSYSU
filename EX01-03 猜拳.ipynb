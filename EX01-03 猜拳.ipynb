{
  "nbformat": 4,
  "nbformat_minor": 0,
  "metadata": {
    "colab": {
      "provenance": [],
      "authorship_tag": "ABX9TyMRdQAQadQzXBORY66Sq+Fq",
      "include_colab_link": true
    },
    "kernelspec": {
      "name": "python3",
      "display_name": "Python 3"
    },
    "language_info": {
      "name": "python"
    }
  },
  "cells": [
    {
      "cell_type": "markdown",
      "metadata": {
        "id": "view-in-github",
        "colab_type": "text"
      },
      "source": [
        "<a href=\"https://colab.research.google.com/github/880121andy/NSYSU/blob/main/EX01-03%20%E7%8C%9C%E6%8B%B3.ipynb\" target=\"_parent\"><img src=\"https://colab.research.google.com/assets/colab-badge.svg\" alt=\"Open In Colab\"/></a>"
      ]
    },
    {
      "cell_type": "code",
      "execution_count": 2,
      "metadata": {
        "colab": {
          "base_uri": "https://localhost:8080/"
        },
        "id": "fmpIxdHPRxOW",
        "outputId": "5899675d-15c8-4f07-e1db-828a97298b20"
      },
      "outputs": [
        {
          "output_type": "stream",
          "name": "stdout",
          "text": [
            "請出拳5\n",
            "你出的是: 5\n",
            "電腦出的是: 0\n",
            "you win\n"
          ]
        }
      ],
      "source": [
        "import random\n",
        "\n",
        "ply = int(input('請出拳'))\n",
        "cmp = random.choice([0,2,5])\n",
        "\n",
        "print('你出的是:', ply)\n",
        "print('電腦出的是:', cmp)\n",
        "\n",
        "if ply == cmp:\n",
        "  print('draw')\n",
        "elif (ply == 0 and cmp == 2) or (ply == 2 and cmp == 5) or (ply == 5 and cmp == 0):\n",
        "  print('you win')\n",
        "else:\n",
        "  print('you lose')"
      ]
    }
  ]
}